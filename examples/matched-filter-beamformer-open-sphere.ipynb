{
 "cells": [
  {
   "cell_type": "markdown",
   "metadata": {},
   "source": [
    "# Simulation: Matched Filter Beamformer for an Open Sphere"
   ]
  },
  {
   "cell_type": "markdown",
   "metadata": {},
   "source": [
    "In this notebook, the matched filter beamformer is realized\n",
    "in the time domain.\n",
    "\n",
    "* A Dirac-shaped plane wave is captured on the surface of an\n",
    "open sphere by a finite number of microphones\n",
    "* The matched filter beamformer is performed in the\n",
    "spherical harmonics (modal) domain\n",
    "* The impulse response of the beamformer is obtained\n",
    "through the spherical harmonics expansion"
   ]
  },
  {
   "cell_type": "code",
   "execution_count": null,
   "metadata": {},
   "outputs": [],
   "source": [
    "import micarray\n",
    "import irutils\n",
    "import numpy as np\n",
    "import matplotlib.pyplot as plt\n",
    "from scipy.signal import fftconvolve as conv, freqz\n",
    "from scipy.special import eval_legendre as legendre\n",
    "from micarray.util import db\n",
    "%matplotlib inline\n",
    "\n",
    "import importlib\n",
    "importlib.reload(irutils)\n",
    "\n",
    "def sph2cart(azi, colat, r):\n",
    "    x = r * np.cos(azi) * np.sin(colat)\n",
    "    y = r * np.sin(azi) * np.sin(colat)\n",
    "    z = r * np.cos(colat)\n",
    "    return x, y, z"
   ]
  },
  {
   "cell_type": "markdown",
   "metadata": {},
   "source": [
    "#### Captured sound field\n",
    "\n",
    "* $s(\\boldsymbol{x}_q, t) =\n",
    "\\delta\\left(t + \\tfrac{\\langle\\boldsymbol{n}_\\text{pw},\n",
    "\\boldsymbol{x}_q\\rangle}{c}\\right)$\n",
    ": captured signal by the $q$-th microphone\n",
    "* $\\boldsymbol{n}_\\text{pw}=(1, \\theta_\\text{pw}, \\phi_\\text{pw})$\n",
    ": unit vector pointing the direction of arrival of the plane wave\n",
    "* $\\boldsymbol{x}_q = (R, \\theta_q, \\phi_q), \\: q=1,\\ldots,Q$\n",
    ": microphone positions, with $Q$ denoting the number of microphones\n",
    "\n",
    "The parameter `array_order` determines the \n",
    "number of microphones and their distribution on the sphere.\n",
    "The microphone array is designed in such a way that\n",
    "it is able to capture the sound field of the given bandwidth\n",
    "without considerable spatial aliasing.\n",
    "The aliasing frequency `f_alias` is typically approximated as\n",
    "$f_\\text{alias} = \\tfrac{c N}{2\\pi R}$.\n",
    "\n",
    "The captured impuse responses are computed\n",
    "by using the Lagrange fractional delay filter.\n",
    "See `irutils.py`.\n",
    "\n",
    "* `x : (Q, 3)` microphone positions in the Cartesian coordinate\n",
    "* `s : (L, Q)` captured sound field\n",
    "* `L` : length of the time domain signal `s`\n",
    "* `Q` : number of microphones"
   ]
  },
  {
   "cell_type": "code",
   "execution_count": null,
   "metadata": {},
   "outputs": [],
   "source": [
    "c = 343  # speed of sound\n",
    "fs = 44100 * 2  # sampling frequency\n",
    "\n",
    "# Incident plane wave\n",
    "azi_pw, colat_pw = 0 * np.pi, 0.5 * np.pi\n",
    "npw = sph2cart(azi_pw, colat_pw, 1)  # direction-of-arrival\n",
    "\n",
    "# Microphone array\n",
    "R = 0.25\n",
    "array_order = 50\n",
    "azi, colat, wq = micarray.modal.angular.grid_gauss(array_order)\n",
    "x = np.column_stack(sph2cart(azi, colat, R))\n",
    "Q = len(azi)  # Number of microphones\n",
    "f_alias = c * array_order / 2 / np.pi / R  # aliasing frequency\n",
    "\n",
    "# Sound field (impulse responses)\n",
    "delay, amplitude = irutils.greens_plane(npw, x, doa=True)\n",
    "shift, signal, fs = irutils.fractional_delay(delay, amplitude, fs,\n",
    "                                             oversample=2, fdfilt_order=11)\n",
    "overall_shift, s = irutils.ir_matrix(shift, signal)\n",
    "L = len(s)"
   ]
  },
  {
   "cell_type": "markdown",
   "metadata": {},
   "source": [
    "The spherical harmonics coefficients are computed\n",
    "by approximating the surface integral by a finite summation.\n",
    "Each sampled signal is weighted by the quadrature weight `wq`\n",
    "which cope with the non-uniform distribution of the arrary.\n",
    "    \n",
    "\\begin{align}\n",
    "\\mathring{s}_{nm}(t)\n",
    "=& \\int_{0}^{2\\pi} \\int_{0}^{\\pi} s(\\boldsymbol{x}, t)\n",
    "Y_{nm}^{\\ast}(\\hat{\\boldsymbol{x}}) \\sin\\vartheta \\:\\text{d}\\vartheta\n",
    "\\: \\text{d}\\varphi \\\\\n",
    "\\approx& \\sum_{q=1}^{Q} w_q \\: s(\\boldsymbol{x}_q, t) \\: Y_{nm}^{\\ast}(\\hat{\\boldsymbol{x}}_q)\n",
    "\\end{align}\n",
    "* $\\mathring{s}_{nm}(t)$ : modal coefficient of the sound field\n",
    "* $\\hat{\\boldsymbol{x}} = \\frac{\\boldsymbol{x}}{\\Vert\\boldsymbol{x}\\Vert}\n",
    "= (1, \\theta, \\phi)$ : unit vector pointing $\\boldsymbol{x}$\n",
    "* $w_q$ : quadrature weight\n",
    "\n",
    "The modal coefficients are computed up to a finite order `bf_order`,\n",
    "which is the spatial bandwidth of the modal beamformer.\n",
    "Notice that the latter is not necessarily the same as `array_order`.\n",
    "The output of the beamformer will be computed for\n",
    "look directions in the horizontal plane $\\theta_l=\\tfrac{\\pi}{2}$.\n",
    "\n",
    "* `snm : (L, (bf_order + 1)**2)` modal coefficients of the sound field\n",
    "* `Ynm_q : (Q, (bf_order + 1)**2)` spherical harmonics evaluated at the microphone positions\n",
    "* `Ynm_l : (N_angle, (bf_order + 1**2))` spherical harmonics evaluated at the look directions\n",
    "* `N_angle` : number of look directions"
   ]
  },
  {
   "cell_type": "code",
   "execution_count": null,
   "metadata": {},
   "outputs": [],
   "source": [
    "# Matched filter beamforming\n",
    "bf_order = 7\n",
    "f_N = c * bf_order / 2 / np.pi / R  # critical frequency\n",
    "Ynm_q = micarray.modal.angular.sht_matrix(bf_order, azi, colat, weights=wq)\n",
    "snm = np.squeeze(np.matmul(np.conj(Ynm_q.T), s[:, :, np.newaxis]))\n",
    "\n",
    "# Look directions in the horizontal plane\n",
    "N_angle = 360\n",
    "azi_l, colat_l = np.linspace(-np.pi, np.pi, num=N_angle), 0.5 * np.pi\n",
    "Ynm_l = micarray.modal.angular.sht_matrix(bf_order, azi_l, colat_l)"
   ]
  },
  {
   "cell_type": "markdown",
   "metadata": {},
   "source": [
    "The next step is to convolve each modal coefficient\n",
    "with the Legendre polynomial,\n",
    "\n",
    "\\begin{align}\n",
    "\\mathring{v}_{nm}(t)\n",
    "=& \\frac{2 \\pi c}{r} P_{n}(\\tfrac{c}{r}t)\n",
    "\\ast_{t} s_{nm}(t),\n",
    "\\end{align}\n",
    "\n",
    "and finally the beamformer output (impulse response) is\n",
    "obtained by the modal expansion,\n",
    "\n",
    "\\begin{align}\n",
    "v(\\boldsymbol{n}_l, t)\n",
    "=& \\sum_{n=0}^{N} \\sum_{m=-n}^{n}\n",
    "\\mathring{v}_{nm}(t) Y_{nm}(\\boldsymbol{n}_l)\n",
    "\\end{align}\n",
    "\n",
    "where\n",
    "* $v(\\boldsymbol{n}_l, t)$ : output of the beamformer for the look direction $\\boldsymbol{n}_l$ \n",
    "* $\\mathring{v}_{nm}(t)$ : modal coefficient of the output\n",
    "\n",
    "\n",
    "* `v : (L + 2 * Lh, N_angle)` beamformer output\n",
    "* `vnm : (L + 2 * Lh, (bf_order + 1)**2)` modal coefficient of the beamformer output\n",
    "* `Lh` : length of the term $P_{n}(\\tfrac{c}{r}t)$"
   ]
  },
  {
   "cell_type": "code",
   "execution_count": null,
   "metadata": {},
   "outputs": [],
   "source": [
    "Lh = int(np.floor(R / c * fs))\n",
    "crt = c / R * np.arange(-Lh, Lh + 1) / fs\n",
    "vnm = np.zeros((L + 2 * Lh, (bf_order + 1)**2), dtype='complex128')\n",
    "i = 0\n",
    "for n in range(bf_order + 1):\n",
    "    bn = legendre(n, crt)\n",
    "    for m in range(-n, n + 1):\n",
    "        vnm[:, i] = conv(snm[:, i], bn)\n",
    "        i += 1\n",
    "vnm /= 2 * np.pi * c / R / fs\n",
    "v = np.squeeze(np.matmul(Ynm_l, vnm[:, :, np.newaxis]))"
   ]
  },
  {
   "cell_type": "markdown",
   "metadata": {},
   "source": [
    "The beamformer output is evaluated below."
   ]
  },
  {
   "cell_type": "code",
   "execution_count": null,
   "metadata": {},
   "outputs": [],
   "source": [
    "# Frequency responses\n",
    "fmin, fmax, num_f = 80, 15000, 500\n",
    "f = np.logspace(np.log10(fmin), np.log10(fmax), num=num_f)\n",
    "Omega = 2 * np.pi * f / fs\n",
    "V = np.column_stack([freqz(v_i, worN=Omega)[1] for v_i in v.T])\n",
    "\n",
    "time = (np.arange(L + 2 * Lh) + overall_shift) / fs - R / c\n",
    "tlim = np.array([-R / c, R / c]) * 3 * 1000\n",
    "ir_vmin = -60\n",
    "tf_vmin = -40\n",
    "\n",
    "fig, ax = plt.subplots(ncols=2, figsize=(12, 4))\n",
    "\n",
    "im = ax[0].pcolormesh(np.rad2deg(azi_l), time * 1000, db(v), vmin=ir_vmin)\n",
    "ax[0].set_ylim(tlim)\n",
    "ax[0].set_xlabel('Azimuth / deg')\n",
    "ax[0].set_ylabel('Time / ms')\n",
    "fig.colorbar(im, ax=ax[0]).set_label('dB')\n",
    "ax[0].set_title('Impulse Responses (N={})'.format(bf_order))\n",
    "\n",
    "im = ax[1].pcolormesh(np.rad2deg(azi_l), f, db(V), vmin=tf_vmin)\n",
    "ax[1].plot(np.rad2deg(azi_l), f_alias * np.ones_like(azi_l), 'r:', label='$f_{array}$')\n",
    "ax[1].plot(np.rad2deg(azi_l), f_N * np.ones_like(azi_l), 'w:', label='$f_{sht}$')\n",
    "if f_alias < fmax: ax[1].text(100, f_alias, '$f_{alias}$', fontsize='x-large', color='w')\n",
    "if f_N < fmax: ax[1].text(100, f_N, '$f_{N}$', fontsize='x-large', color='w')\n",
    "ax[1].set_xlabel('Azimuth / deg')\n",
    "ax[1].set_ylabel('Frequency / Hz')\n",
    "ax[1].set_yscale('log')\n",
    "ax[1].set_ylim([fmin, fmax])\n",
    "fig.colorbar(im, ax=ax[1]).set_label('dB')\n",
    "ax[1].set_title('Beam Pattern (N={})'.format(bf_order))\n",
    "\n",
    "print('R = {R} m, # of mic = {Q}, array order = {array_order},\\\n",
    "      bf order = {bf_order}, fs = {fs}'\n",
    "      .format(R=R, Q=Q, array_order=array_order, bf_order=bf_order, fs=fs))"
   ]
  },
  {
   "cell_type": "code",
   "execution_count": null,
   "metadata": {},
   "outputs": [],
   "source": [
    "# Beam pattern\n",
    "f = 200, 500, 1000, 2000, 5000, 10000  # frequencies\n",
    "\n",
    "plt.figure()\n",
    "[plt.plot(azi_l, db(freqz(v, worN=2 * np.pi * f_i / fs)[1]),\n",
    "          label='{}'.format(f_i)) for f_i in f];\n",
    "plt.xlabel('Azimuth / rad')\n",
    "plt.ylabel('Magnitude / dB')\n",
    "plt.legend(loc='lower right', title='$f$ / Hz')\n",
    "plt.ylim(ymin=-20)\n",
    "plt.grid()"
   ]
  }
 ],
 "metadata": {
  "kernelspec": {
   "display_name": "Python [default]",
   "language": "python",
   "name": "python3"
  },
  "language_info": {
   "codemirror_mode": {
    "name": "ipython",
    "version": 3
   },
   "file_extension": ".py",
   "mimetype": "text/x-python",
   "name": "python",
   "nbconvert_exporter": "python",
   "pygments_lexer": "ipython3",
   "version": "3.5.6"
  },
  "varInspector": {
   "cols": {
    "lenName": 16,
    "lenType": 16,
    "lenVar": 40
   },
   "kernels_config": {
    "python": {
     "delete_cmd_postfix": "",
     "delete_cmd_prefix": "del ",
     "library": "var_list.py",
     "varRefreshCmd": "print(var_dic_list())"
    },
    "r": {
     "delete_cmd_postfix": ") ",
     "delete_cmd_prefix": "rm(",
     "library": "var_list.r",
     "varRefreshCmd": "cat(var_dic_list()) "
    }
   },
   "types_to_exclude": [
    "module",
    "function",
    "builtin_function_or_method",
    "instance",
    "_Feature"
   ],
   "window_display": false
  }
 },
 "nbformat": 4,
 "nbformat_minor": 2
}
