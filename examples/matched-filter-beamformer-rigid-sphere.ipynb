{
 "cells": [
  {
   "cell_type": "markdown",
   "metadata": {},
   "source": [
    "# Matched Filter Beamformer for a Rigid Sphere"
   ]
  },
  {
   "cell_type": "code",
   "execution_count": 1,
   "metadata": {},
   "outputs": [],
   "source": [
    "import micarray\n",
    "import irutils\n",
    "import numpy as np\n",
    "from micarray.util import db\n",
    "from scipy.special import sph_harm\n",
    "from scipy.signal import freqz, sosfilt, sosfreqz, kaiser\n",
    "import matplotlib.pyplot as plt\n",
    "%matplotlib inline"
   ]
  },
  {
   "cell_type": "code",
   "execution_count": 2,
   "metadata": {},
   "outputs": [],
   "source": [
    "c = 343  # speed of sound\n",
    "fs = 2 * 44100\n",
    "\n",
    "# Broadband excitation\n",
    "L = 1024\n",
    "imp = np.zeros(L)\n",
    "imp[L // 2] = 1\n",
    "\n",
    "# Incident plane wave\n",
    "sf_order = 40\n",
    "azi_pw, colat_pw = np.pi, 0.5 * np.pi\n",
    "\n",
    "# Microphone array\n",
    "R = 0.25  # radius\n",
    "array_order = 30\n",
    "azi_q, colat_q, wq = micarray.modal.angular.grid_gauss(n=array_order)\n",
    "Q = len(azi_q)\n",
    "\n",
    "# Critical frequencies\n",
    "f_sf = c * sf_order / 2 / np.pi / R\n",
    "f_alias = c * array_order / 2 / np.pi / R"
   ]
  },
  {
   "cell_type": "code",
   "execution_count": null,
   "metadata": {},
   "outputs": [],
   "source": [
    "# Captured signal\n",
    "delay, sos = irutils.radial_filter(sf_order, R, fs=fs, setup='rigid')\n",
    "s0nm = np.column_stack([sosfilt(sos[n], imp)[:, np.newaxis]\n",
    "                        * np.stack([sph_harm(m, n, azi_pw, colat_pw)\n",
    "                                    for m in range(-n, n + 1)])\n",
    "                        for n in range(sf_order + 1)])\n",
    "s0nm *= 4 * np.pi\n",
    "Ynm_s = micarray.modal.angular.sht_matrix(sf_order, azi_q, colat_q)\n",
    "s0 = np.squeeze(np.matmul(Ynm_s, s0nm[:, :, np.newaxis]))"
   ]
  },
  {
   "cell_type": "code",
   "execution_count": null,
   "metadata": {},
   "outputs": [],
   "source": [
    "# Modal Analysis\n",
    "bf_order = 7\n",
    "if bf_order > sf_order:\n",
    "    delay, sos = irutils.radial_filter(bf_order, R, fs=fs, setup='rigid')\n",
    "f_N = c * bf_order / 2 / np.pi / R\n",
    "Ynm_q = micarray.modal.angular.sht_matrix(bf_order, azi_q, colat_q, wq)\n",
    "snm = np.squeeze(np.matmul(np.conj(Ynm_q.T), s0[:, :, np.newaxis]))\n",
    "\n",
    "# Matched filter beamforming\n",
    "N_angle = 360\n",
    "azi_l, colat_l = np.linspace(-np.pi, np.pi, num=N_angle), 0.5 * np.pi\n",
    "Ynm_l = micarray.modal.angular.sht_matrix(bf_order, azi_l, colat_l)\n",
    "vnm = np.zeros((L, (bf_order + 1)**2), dtype='complex128')\n",
    "i = 0\n",
    "for n in range(bf_order + 1):\n",
    "    for m in range(-n, n + 1):\n",
    "        vnm[:, i] = (-1)**n * sosfilt(sos[n], snm[::-1, i])\n",
    "        i += 1\n",
    "v = np.squeeze(np.matmul(Ynm_l, vnm[:, :, np.newaxis]))\n",
    "\n",
    "# Frequency responses\n",
    "fmin, fmax, num_f = 80, 15000, 500\n",
    "f = np.logspace(np.log10(fmin), np.log10(fmax), num=num_f)\n",
    "Omega = 2 * np.pi * f / fs\n",
    "V = np.column_stack([freqz(v_i, worN=Omega)[1] for v_i in v.T])"
   ]
  },
  {
   "cell_type": "code",
   "execution_count": null,
   "metadata": {},
   "outputs": [],
   "source": [
    "time = (np.arange(L) - L // 2) / fs\n",
    "tlim = np.array([-R / c, R / c]) * 3 * 1000\n",
    "ir_vmin = -100\n",
    "tf_vmin = -80\n",
    "\n",
    "\n",
    "fig, ax = plt.subplots(ncols=2, figsize=(12, 4))\n",
    "\n",
    "im = ax[0].pcolormesh(np.rad2deg(azi_l), time * 1000, db(v), vmin=ir_vmin)\n",
    "# ax[0].set_ylim(tlim)\n",
    "ax[0].set_xlabel('Azimuth / rad')\n",
    "ax[0].set_ylabel('Time / ms')\n",
    "fig.colorbar(im, ax=ax[0]).set_label('dB')\n",
    "ax[0].set_title('Impulse Responses (N={})'.format(bf_order))\n",
    "\n",
    "im = ax[1].pcolormesh(np.rad2deg(azi_l), f, db(V), vmin=tf_vmin)\n",
    "ax[1].plot(np.rad2deg(azi_l), f_sf * np.ones_like(azi_l), 'b:')\n",
    "ax[1].plot(np.rad2deg(azi_l), f_alias * np.ones_like(azi_l), 'r:')\n",
    "ax[1].plot(np.rad2deg(azi_l), f_N * np.ones_like(azi_l), 'w:')\n",
    "if f_sf < fmax: ax[1].text(100, f_sf, '$f_{sf}$', fontsize='x-large', color='b')\n",
    "if f_alias < fmax: ax[1].text(100, f_alias, '$f_{alias}$', fontsize='x-large', color='r')\n",
    "if f_N < fmax: ax[1].text(100, f_N, '$f_{N}$', fontsize='x-large', color='w')\n",
    "ax[1].set_xlabel('Azimuth / rad')\n",
    "ax[1].set_ylabel('Frequency / Hz')\n",
    "ax[1].set_yscale('log')\n",
    "ax[1].set_ylim([fmin, fmax])\n",
    "fig.colorbar(im, ax=ax[1]).set_label('dB')\n",
    "ax[1].set_title('Beam Pattern (N={})'.format(bf_order))\n",
    "\n",
    "print('R = {R} m, # of mic = {Q}, array order = {array_order},\\\n",
    "      bf order = {bf_order}, fs = {fs}'\n",
    "      .format(R=R, Q=Q, array_order=array_order, bf_order=bf_order, fs=fs))"
   ]
  }
 ],
 "metadata": {
  "kernelspec": {
   "display_name": "Python [default]",
   "language": "python",
   "name": "python3"
  },
  "language_info": {
   "codemirror_mode": {
    "name": "ipython",
    "version": 3
   },
   "file_extension": ".py",
   "mimetype": "text/x-python",
   "name": "python",
   "nbconvert_exporter": "python",
   "pygments_lexer": "ipython3",
   "version": "3.5.6"
  }
 },
 "nbformat": 4,
 "nbformat_minor": 2
}
